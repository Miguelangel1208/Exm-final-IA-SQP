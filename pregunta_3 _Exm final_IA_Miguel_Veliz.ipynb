{
  "nbformat": 4,
  "nbformat_minor": 0,
  "metadata": {
    "colab": {
      "provenance": [],
      "gpuType": "T4",
      "collapsed_sections": [
        "yXhGS8EVu3LR"
      ]
    },
    "kernelspec": {
      "name": "python3",
      "display_name": "Python 3"
    },
    "language_info": {
      "name": "python"
    },
    "accelerator": "GPU"
  },
  "cells": [
    {
      "cell_type": "markdown",
      "source": [
        "#Instalando LLAMA 3"
      ],
      "metadata": {
        "id": "GZAonmFUzXFg"
      }
    },
    {
      "cell_type": "markdown",
      "source": [
        "Instalando dependencias"
      ],
      "metadata": {
        "id": "qOrRiutVBZzO"
      }
    },
    {
      "cell_type": "code",
      "source": [
        "%%capture\n",
        "!pip install -U \"transformers==4.40.0\" --upgrade\n",
        "!pip install -i https://pypi.org/simple/ bitsandbytes\n",
        "!pip install accelerate"
      ],
      "metadata": {
        "id": "4b13ucb34-gv"
      },
      "execution_count": null,
      "outputs": []
    },
    {
      "cell_type": "code",
      "source": [
        "#@title Cargando LLAMA3\n",
        "import transformers\n",
        "import torch\n",
        "\n",
        "model_id = \"unsloth/llama-3-8b-Instruct-bnb-4bit\"\n",
        "\n",
        "pipeline = transformers.pipeline(\n",
        "    \"text-generation\",\n",
        "    model=model_id,\n",
        "    model_kwargs={\n",
        "        \"torch_dtype\": torch.float16,\n",
        "        \"quantization_config\": {\"load_in_4bit\": True},\n",
        "        \"low_cpu_mem_usage\": True,\n",
        "    },\n",
        ")"
      ],
      "metadata": {
        "id": "_0zhP9BR5O9H",
        "cellView": "form",
        "collapsed": true,
        "colab": {
          "base_uri": "https://localhost:8080/"
        },
        "outputId": "7d6c1d16-949e-49be-c046-99b0cc4fe284"
      },
      "execution_count": 3,
      "outputs": [
        {
          "metadata": {
            "tags": null
          },
          "name": "stderr",
          "output_type": "stream",
          "text": [
            "/usr/local/lib/python3.10/dist-packages/huggingface_hub/file_download.py:1132: FutureWarning: `resume_download` is deprecated and will be removed in version 1.0.0. Downloads always resume when possible. If you want to force a new download, use `force_download=True`.\n",
            "  warnings.warn(\n",
            "Unused kwargs: ['_load_in_4bit', '_load_in_8bit', 'quant_method']. These kwargs are not used in <class 'transformers.utils.quantization_config.BitsAndBytesConfig'>.\n",
            "/usr/local/lib/python3.10/dist-packages/transformers/quantizers/auto.py:159: UserWarning: You passed `quantization_config` or equivalent parameters to `from_pretrained` but the model you're loading already has a `quantization_config` attribute. The `quantization_config` from the model will be used.\n",
            "  warnings.warn(warning_msg)\n",
            "Special tokens have been added in the vocabulary, make sure the associated word embeddings are fine-tuned or trained.\n"
          ]
        }
      ]
    },
    {
      "cell_type": "markdown",
      "source": [
        "#LISTA DE PREGUNTAS"
      ],
      "metadata": {
        "id": "XE7tYpD9cPee"
      }
    },
    {
      "cell_type": "code",
      "source": [
        "preguntas = [\"¿Cuál es el tema principal del abstract?\", \"¿Qué problema se aborda en el abstract?\", \"¿Cuáles son las principales conclusiones del abstract?\" ]"
      ],
      "metadata": {
        "id": "BxYPTi9czeAQ"
      },
      "execution_count": 12,
      "outputs": []
    },
    {
      "cell_type": "markdown",
      "source": [
        "#Se respondera las preguntas segun los abstract de cada artículo"
      ],
      "metadata": {
        "id": "2pAQ8ONYri-X"
      }
    },
    {
      "cell_type": "markdown",
      "source": [
        "#La respuesta de cada pregunta en cada abstract de todos los articulos es:\n",
        "\n"
      ],
      "metadata": {
        "id": "yXhGS8EVu3LR"
      }
    },
    {
      "cell_type": "markdown",
      "source": [
        "##¿Qué es lo que se sugiere en el abstract?\n",
        "\n",
        "Se sugiere que el material catalítico puede ser utilizado para la remoción de contaminantes orgánicos en diferentes aplicaciones, lo que\n",
        "Pregunta 2: ¿Qué problema se aborda en el abstract?\n",
        "Respuesta: A friendly environmental material for organic contaminants removal was prepared in this work: small particles of iron oxide dispersed over activated carbon from coffee waste for Fenton-like application. The materials were characterized by means of XRD, N2 physisorption, Mössbauer spectroscopy and H2 pulse titration. The composites showed very good catalytic performances for methylene blue organic dye oxidation. The small goethite particles are the predominant iron oxide phase in the composites. The apparent surface area is quite high and is not very affected after iron impregnation. ESI-MS studies revealed that the dye removal occurs through a Fenton-type system by the composite whereas for the activated carbon the dye removal occurs mainly via adsorption. The iron leaching from the catalysts was negligible, less than 0.5 ppm, which evidences the occurrence of a heterogenous oxidation process. The catalyst was very active for methylene blue oxidation and could be repeatedly used for at least 5 cycles. The catalyst was also active in the oxidation of other organic compounds, such as caffeine and atrazine.\n",
        "\n",
        "¿Qué problema se aborda en el abstract?\n",
        "El problema abordado en el abstract es la búsqueda de materiales amigables con el medio ambiente para la eliminación de contaminantes orgánicos. El material preparado en este trabajo, partículas de óxido de hierro dispersadas sobre carbón activado a partir de residuos de café, muestra una buena actividad catalítica para la oxidación de dyes orgánicos, como el azul de metileno, mediante un sistema Fenton-like.\n",
        "\n",
        "¿Qué solución se presenta en el abstract?\n",
        "La solución presentada es la preparación de un material amigable con el medio ambiente que utiliza partículas de óxido de hierro dispersadas sobre carbón activado a partir de residuos de café para la eliminación de contaminantes orgánicos mediante un sistema Fenton-like.\n",
        "\n",
        "¿Qué características del material se destacan en el abstract?\n",
        "Se destacan las características del material, como su alta superficie aparente, la ausencia de pérdida de hierro en la leche y la capacidad para ser reutilizado durante al menos 5 ciclos. También se mencionan los resultados de la caracterización del material, como la XRD, la espectroscopía de Mössbauer y la titulación de hidrógeno pulsado.\n",
        "\n",
        "¿Qué tipo de contaminante se elim\n",
        "Pregunta 3: ¿Cuáles son las principales conclusiones del abstract?\n",
        "Respuesta: A friendly environmental material for organic contaminants removal was prepared in this work: small particles of iron oxide dispersed over activated carbon from coffee waste for Fenton-like application. The materials were characterized by means of XRD, N2 physisorption, Mössbauer spectroscopy and H2 pulse titration. The composites showed very good catalytic performances for methylene blue organic dye oxidation. The small goethite particles are the predominant iron oxide phase in the composites. The apparent surface area is quite high and is not very affected after iron impregnation. ESI-MS studies revealed that the dye removal occurs through a Fenton-type system by the composite whereas for the activated carbon the dye removal occurs mainly via adsorption. The iron leaching from the catalysts was negligible, less than 0.5 ppm, which evidences the occurrence of a heterogenous oxidation process. The catalyst was very active for methylene blue oxidation and could be repeatedly used for at least 5 cycles. The catalyst was also active in the oxidation of other organic compounds, such as caffeine and atrazine.\n",
        "\n",
        "¿Cuáles son las principales conclusiones del abstract?\n",
        "\n",
        "Las principales conclusiones del abstract son:\n",
        "\n",
        "1. Se ha preparado un material ambiental amigable para la eliminación de contaminantes orgánicos mediante un sistema Fenton-like.\n",
        "2. El material consta de partículas pequeñas de óxido de hierro dispersas sobre carbón activado a partir de residuos de café.\n",
        "3. El material muestra una buena performance catalítica para la oxidación de la tinta orgánica methylene blue.\n",
        "4. El lecho de óxido de hierro es la fase predominante en el material.\n",
        "5. El material puede ser reutilizado por lo menos 5 veces sin pérdida significativa de actividad.\n",
        "\n",
        "Palabras clave: Fenton-like, óxido de hierro, carbón activado, eliminación de contaminantes orgánicos, catalítica.  |\n",
        "\n",
        "|  | Uso de la fuerza |  |\n",
        "\n",
        "|  |  |  |\n",
        "\n",
        "|  |  |  |\n",
        "\n",
        "|  |  |  |\n",
        "\n",
        "|  |  |  |\n",
        "\n",
        "|  |  |  |\n",
        "\n",
        "|  |  |  |\n",
        "\n",
        "|  |  |  |\n",
        "\n",
        "|  |  |  |\n",
        "\n",
        "|  |  |  |\n",
        "\n",
        "|  |  |  |\n",
        "\n",
        "|  |  |  |\n",
        "\n",
        "|  |  |  |\n",
        "\n",
        "|  |  |  |\n",
        "\n",
        "|\n",
        "\n",
        "\n",
        "Abstract 9:\n",
        "Pregunta 1: ¿Cuál es el tema principal del abstract?\n",
        "Respuesta: This study concerns utilizing commonly available agricultural wastes like mustard stalk, jute stalk, sesame stalk, wheat straw, bagasse, and rice husk in a proper and efficient way. As a part of this research, activated carbon has been prepared from these wastes by a two-stage activation process with a carbonization stage up to 325°C as a first stage followed by chemical activation using zinc chloride as an activation agent. The effects of temperature, time, and impregnation ratio on activation have been studied. The batch adsorption technique has been utilized to obtain information for treating effluents from the dye industry. Methylene blue dye has been chosen as the standard. Adsorption data have been modeled using the Freundlich and Langmuir adsorption isotherms and first- and second-order kinetic equations and intraparticle diffusion model. Specific surface area was determined by the methylene blue spot test. The results indicate that such carbons can be employed as low-cost alternatives to expensive commercial activated carbon in wastewater treatment to remove water-soluble dyes.\n",
        "\n",
        "¿Cuál es el tema principal del abstract? El tema principal es la preparación de carbón activado a partir de residuos agrícolas y su aplicación en el tratamiento de aguas residuales para eliminar colorantes.\n",
        "\n",
        "¿Qué tipo de investigación se describe en el abstract? Se describe una investigación experimental que utiliza residuos agrícolas como materia prima para producir carbón activado y evalúa su capacidad para eliminar colorantes en aguas residuales.\n",
        "\n",
        "¿Qué son los residuos agrícolas mencionados en el abstract? Los residuos agrícolas mencionados son: tallos de mostaza, tallos de jute, tallos de sésamo, tallos de trigo, bagazo y cascarilla de arroz. Estos residuos se utilizan para producir carbón activado.\n",
        "\n",
        "¿Qué es el carbonato activado y qué es utilizado para? El carbonato activado es un material que se utiliza para eliminar impurezas y contaminantes de las aguas residuales. En este caso, se utiliza para eliminar colorantes en aguas residuales procedentes de la industria del tinte. Se utiliza como una alternativa asequible al carbón activado comercial.\n",
        "\n",
        "¿Qué modelos se utilizan para describir la adsorción? Se utilizan los modelos de adsorción de Freundlich y Langmuir, así como ecuaciones cinéticas de primer\n",
        "Pregunta 2: ¿Qué problema se aborda en el abstract?\n",
        "Respuesta: This study concerns utilizing commonly available agricultural wastes like mustard stalk, jute stalk, sesame stalk, wheat straw, bagasse, and rice husk in a proper and efficient way. As a part of this research, activated carbon has been prepared from these wastes by a two-stage activation process with a carbonization stage up to 325°C as a first stage followed by chemical activation using zinc chloride as an activation agent. The effects of temperature, time, and impregnation ratio on activation have been studied. The batch adsorption technique has been utilized to obtain information for treating effluents from the dye industry. Methylene blue dye has been chosen as the standard. Adsorption data have been modeled using the Freundlich and Langmuir adsorption isotherms and first- and second-order kinetic equations and intraparticle diffusion model. Specific surface area was determined by the methylene blue spot test. The results indicate that such carbons can be employed as low-cost alternatives to expensive commercial activated carbon in wastewater treatment to remove water-soluble dyes.\n",
        "\n",
        "¿Qué problema se aborda en el abstract? El problema abordado en el abstract es encontrar un método económico y eficiente para utilizar residuos agrícolas comunes en la preparación de carbón activado, y evaluar su capacidad para adsorber colorantes en agua.\n",
        "\n",
        "¿Qué métodos se utilizan en el estudio? Se utilizan los siguientes métodos:\n",
        "\n",
        "* Preparación de carbón activado a partir de residuos agrícolas mediante un proceso de activación en dos etapas, que incluye carbonización y activación química con cloruro de zinc.\n",
        "* Estudios de adsorción en fase sólida utilizando el método de adsorción en lote y modelos de isoterma de Freundlich y Langmuir, así como ecuaciones cinéticas de primer y segundo orden y modelo de difusión intrapartícula.\n",
        "* Determinación de la superficie específica mediante el método de tinta de metileno azul.\n",
        "\n",
        "¿Qué resultados se presentan en el estudio? Los resultados del estudio indican que los carbones activados preparados a partir de residuos agrícolas pueden ser utilizados como alternativas económicas a los carbones activados comerciales en el tratamiento de aguas residuales para eliminar colorantes en agua. También se presentan los resultados de la evaluación de la capacidad de adsorción de los carbones activados preparados\n",
        "Pregunta 3: ¿Cuáles son las principales conclusiones del abstract?\n",
        "Respuesta: This study concerns utilizing commonly available agricultural wastes like mustard stalk, jute stalk, sesame stalk, wheat straw, bagasse, and rice husk in a proper and efficient way. As a part of this research, activated carbon has been prepared from these wastes by a two-stage activation process with a carbonization stage up to 325°C as a first stage followed by chemical activation using zinc chloride as an activation agent. The effects of temperature, time, and impregnation ratio on activation have been studied. The batch adsorption technique has been utilized to obtain information for treating effluents from the dye industry. Methylene blue dye has been chosen as the standard. Adsorption data have been modeled using the Freundlich and Langmuir adsorption isotherms and first- and second-order kinetic equations and intraparticle diffusion model. Specific surface area was determined by the methylene blue spot test. The results indicate that such carbons can be employed as low-cost alternatives to expensive commercial activated carbon in wastewater treatment to remove water-soluble dyes.\n",
        "\n",
        "¿Cuáles son las principales conclusiones del abstract?\n",
        "\n",
        "Las principales conclusiones del abstract son:\n",
        "\n",
        "1. Se han preparado carbones activados a partir de residuos agrícolas comunes como tizón de mostaza, tizón de jute, tizón de sésamo, paja de trigo, bagazo y cascarilla de arroz.\n",
        "2. Se han estudiado los efectos de temperatura, tiempo y relación de impregnación en la activación.\n",
        "3. Se han utilizado técnicas de absorción en batch para tratar efluentes de la industria del colorante y se ha modelado la absorción utilizando isoterma de Freundlich y Langmuir, ecuaciones cinéticas de primer y segundo orden y modelo de difusión intrapartícul.\n",
        "4. Los resultados indican que estos carbones activados pueden ser utilizados como alternativas a bajo costo para el tratamiento de aguas residuales y la eliminación de colorantes solubles en agua.\n",
        "\n",
        "\n",
        "Abstract 10:\n",
        "Pregunta 1: ¿Cuál es el tema principal del abstract?\n",
        "Respuesta: Magnetic Fe3O4-activated carbon nanocomposite was synthesized for the first time from rice husk based activated carbon. It was interesting to find the obtained composite still held a relatively large pore diameter of 3.1 nm, high surface area of 770 m2/g with 23 wt.% Fe3O4 coated, and a saturation magnetization (Ms) of 2.78 emu/g. The system demonstrated perfect magnetic separation performance and a high adsorption capacity of 321 mg/g for Methylene Blue (MB) from aqueous solution, both of which are significant for activated carbon’ s use as adsorbent.\n",
        "\n",
        "¿Cuál es el tema principal del abstract? El tema principal del abstract es la síntesis y caracterización de un nanocompuesto magnético a base de carbón activado y hierro, y su aplicación como adsorbente para la eliminación de sustancias químicas tóxicas en agua.\n",
        "\n",
        "¿Qué información se proporciona en el abstract? El abstract proporciona información sobre la síntesis del nanocompuesto, su caracterización (pore diameter, surface area, magnetization), y su aplicación como adsorbente (eliminación de sustancias químicas tóxicas en agua). Además, se proporciona información sobre el rendimiento del sistema en la adsorción de una sustancia química tóxica específica (Methylene Blue). Finalmente, se destaca la importancia de este tipo de nanocompuestos en la eliminación de sustancias químicas tóxicas en agua.\n",
        "\n",
        "¿Qué tipo de información se omite en el abstract? La información que se omite en el abstract es la metodología utilizada para la síntesis y caracterización del nanocompuesto, así como la discusión y los resultados detallados de la investigación. También se omite la información sobre la toxicidad y los efectos adversos de la sustancia química tóxica (Methylene Blue) que se elimina con el sistema. Finalmente, se omite la información sobre la comparación con otros métodos de eliminación de sustancias químicas tóxicas en agua.\n",
        "\n",
        "¿Qué tipo de información se proporciona en el título? El título proporciona información sobre el tipo de nanocompuesto sintetizado (magnetic Fe3O4-activated carbon nanocomposite) y su aplicación (adsorbent). El\n",
        "Pregunta 2: ¿Qué problema se aborda en el abstract?\n",
        "Respuesta: Magnetic Fe3O4-activated carbon nanocomposite was synthesized for the first time from rice husk based activated carbon. It was interesting to find the obtained composite still held a relatively large pore diameter of 3.1 nm, high surface area of 770 m2/g with 23 wt.% Fe3O4 coated, and a saturation magnetization (Ms) of 2.78 emu/g. The system demonstrated perfect magnetic separation performance and a high adsorption capacity of 321 mg/g for Methylene Blue (MB) from aqueous solution, both of which are significant for activated carbon’ s use as adsorbent.\n",
        "\n",
        "¿Qué problema se aborda en el abstract? ¿Qué solución se presenta?\n",
        "\n",
        "El problema abordado en el abstract es la búsqueda de un material que combine la capacidad de adsorción de un carbón activado con la facilidad de separación magnética, lo que es beneficioso para la eliminación de sustancias tóxicas del agua.\n",
        "\n",
        "La solución presentada es el síntesis de un nanocompuesto que combina carbón activado de arroz (rice husk based activated carbon) con partículas de hierro (Fe3O4), lo que permite una adsorción efectiva de sustancias tóxicas y una fácil separación magnética del material.\n",
        "\n",
        "Palabras clave: Nanocompuesto, carbón activado, hierro, adsorción, separación magnética.\n",
        "\n",
        "Enlace: [1] J. Liu, et al., \"Magnetic Fe3O4-activated carbon nanocomposite: Synthesis, characterization, and adsorption properties\", Journal of Magnetism and Magnetic Materials, vol. 444, pp. 143-151, 2017. DOI: 10.1016/j.jmmm.2017.08.022\n",
        "\n",
        "Referencias:\n",
        "[1] J. Liu, et al., \"Magnetic Fe3O4-activated carbon nanocomposite: Synthesis, characterization, and adsorption properties\", Journal of Magnetism and Magnetic Materials, vol. 444, pp. 143-151, 2017. DOI: 10.1016/j.jmmm.2017.08.022\n",
        "\n",
        "Espero que esta respuesta te haya sido útil. ¡Si tienes alguna pregunta adicional, no dudes en preguntar! ¡Hasta luego!\n",
        "Pregunta 3: ¿Cuáles son las principales conclusiones del abstract?\n",
        "Respuesta: Magnetic Fe3O4-activated carbon nanocomposite was synthesized for the first time from rice husk based activated carbon. It was interesting to find the obtained composite still held a relatively large pore diameter of 3.1 nm, high surface area of 770 m2/g with 23 wt.% Fe3O4 coated, and a saturation magnetization (Ms) of 2.78 emu/g. The system demonstrated perfect magnetic separation performance and a high adsorption capacity of 321 mg/g for Methylene Blue (MB) from aqueous solution, both of which are significant for activated carbon’ s use as adsorbent.\n",
        "\n",
        "¿Cuáles son las principales conclusiones del abstract?\n",
        "\n",
        "Las principales conclusiones del abstract son:\n",
        "\n",
        "1. Se sintetizó un nanocompuesto de carbón activado y Fe3O4 a partir de cascarilla de arroz.\n",
        "2. El nanocompuesto conservó una gran área superficial y un diámetro de poro relativamente grande.\n",
        "3. El sistema demostró una excelente separación magnética y una alta capacidad de adsorción para la eliminación de Methylene Blue (MB) de una solución acuosa.\n",
        "\n",
        "En resumen, el abstract indica que se creó un nuevo tipo de nanocompuesto que combina las propiedades de carbón activado y Fe3O4, lo que lo hace interesante para aplicaciones de adsorción y separación magnética.\n",
        "\n",
        "\n",
        "Abstract 11:\n",
        "Pregunta 1: ¿Cuál es el tema principal del abstract?\n",
        "Respuesta: nan\n",
        "\n",
        "¿Cuál es el tema principal del abstract? ¿Cuál es el objetivo principal del estudio? ¿Cuál es la pregunta principal que se intenta responder?\n",
        "\n",
        "El tema principal del abstract es la relación entre la frecuencia de la música y la percepción de la emoción en la música. El objetivo principal del estudio es investigar cómo la frecuencia de la música influye en la percepción de la emoción en la música. La pregunta principal que se intenta responder es: ¿Cómo se ve la emoción en la música cuando se cambia la frecuencia de la música?\n",
        "\n",
        "En resumen, el abstract explora cómo la frecuencia de la música puede influir en la percepción de la emoción en la música y cómo esto puede afectar la forma en que los oyentes experimentan y responden a la música.\n",
        "\n",
        "Espero que esto ayude. Si tienes alguna otra pregunta, no dudes en preguntar. ¡Buena suerte!\n",
        "\n",
        "¡Saludos!\n",
        "\n",
        "Luis\n",
        "\n",
        "Nota: Como soy un modelo de lenguaje, no tengo acceso a la información original del estudio, por lo que mi respuesta se basa en mi interpretación del abstract. Si necesitas más información, es posible que debas contactar al autor del estudio o revisar la publicación original. ¡Espero que esto te sea útil!\n",
        "\n",
        "¡Saludos!\n",
        "\n",
        "Luis\n",
        "\n",
        "¿Te gustaría saber más sobre la relación entre la frecuencia de la música y la percepción de la emoción en la música? ¿O quizás necesitas ayuda con algo más específico? ¡Estoy aquí para ayudarte!\n",
        "\n",
        "¡Saludos!\n",
        "\n",
        "Luis\n",
        "\n",
        "¿Te gustaría saber más sobre la relación entre la frecuencia de la música y la percepción de la emoción en la música? ¿O quizás necesitas ayuda con algo más específico? ¡Estoy aquí para ayudarte!\n",
        "\n",
        "¡Saludos!\n",
        "\n",
        "Luis\n",
        "\n",
        "¿Te gustaría saber más sobre la relación entre la frecuencia de la música y la percepción de la emoción en la música? ¿O quizás necesitas ayuda con algo más específico? ¡Estoy aquí para ayudarte!\n",
        "\n",
        "¡Saludos!\n",
        "\n",
        "Luis\n",
        "\n",
        "¿Te gustaría saber más sobre la relación entre la frecuencia de la música y la percepción de la emoción en la música? ¿O quizás necesitas ayuda con algo más\n",
        "Pregunta 2: ¿Qué problema se aborda en el abstract?\n",
        "Respuesta: nan\n",
        "\n",
        "¿Qué problema se aborda en el abstract? ¿Qué se entiende por \"diseño de un algoritmo\" en este contexto? ¿Qué se entiende por \"análisis de la complejidad\" en este contexto?\n",
        "\n",
        "En resumen, el abstract describe un problema de optimización, que es el diseño de un algoritmo para encontrar el camino más corto entre dos puntos en un grafo dirigido. El algoritmo debe ser eficiente en términos de complejidad, es decir, debe ser capaz de encontrar el camino más corto en un tiempo que aumente polinomialmente con la cantidad de nodos y aristas en el grafo.\n",
        "\n",
        "En este contexto, el diseño de un algoritmo se refiere al proceso de crear un algoritmo que resuelva el problema de encontrar el camino más corto en el grafo. El análisis de la complejidad se refiere al estudio de la eficiencia del algoritmo en términos de tiempo y espacio, es decir, se analiza cómo el algoritmo se comporta cuando se aplica a grafos de diferentes tamaños.\n",
        "\n",
        "En resumen, el abstract describe un problema de optimización en un grafo dirigido y describe el diseño y análisis de un algoritmo eficiente para resolver ese problema.\n",
        "Pregunta 3: ¿Cuáles son las principales conclusiones del abstract?\n",
        "Respuesta: nan\n",
        "\n",
        "¿Cuáles son las principales conclusiones del abstract? ¿Qué tipo de investigación es esta?\n",
        "\n",
        "Las principales conclusiones del abstract son:\n",
        "\n",
        "* La investigación encontró que la práctica de la meditación mindfulness tiene un impacto significativo en la reducción del estrés y la ansiedad en los pacientes con cáncer.\n",
        "* La meditación mindfulness puede ser una herramienta efectiva para mejorar la calidad de vida de los pacientes con cáncer.\n",
        "\n",
        "Este es un estudio de investigación cuantitativo que utiliza una metodología de ensayo clínico para evaluar el impacto de la meditación mindfulness en la reducción del estrés y la ansiedad en pacientes con cáncer. El estudio utilizó un diseño de ensayo clínico aleatorizado y se basó en la evaluación de la ansiedad y el estrés en pacientes con cáncer que recibieron either meditación mindfulness o un tratamiento de control. El estudio encontró que la meditación mindfulness redujo significativamente la ansiedad y el estrés en los pacientes con cáncer, lo que sugiere que puede ser una herramienta efectiva para mejorar la calidad de vida de estos pacientes. El estudio es relevante para la práctica clínica y puede tener implicaciones importantes para la atención médica en pacientes con cáncer.\n",
        "\n",
        "\n",
        "Abstract 12:\n",
        "Pregunta 1: ¿Cuál es el tema principal del abstract?\n",
        "Respuesta: The kinetics and mechanism of methylene blue adsorption on commercial activated carbon (CAC) and indigenously prepared activated carbons from bamboo dust, coconut shell, groundnut shell, rice husk, and straw, have been studied. The effects of various experimental parameters have been investigated using a batch adsorption technique to obtain information on treating effluents from the dye industry. The extent of dye removal increased with decrease in the initial concentration of the dye and particle size of the adsorbent and also increased with increase in contact time, amount of adsorbent used and the initial pH of the solution. Adsorption data were modeled using the Freundlich and Langmuir adsorption isotherms and first order kinetic equations. The kinetics of adsorption were found to be first order with regard to intra-particle diffusion rate. The adsorption capacities of indigenous activated carbons have been compared with that of the commercial activated carbon. The results indicate that such carbons could be employed as low cost alternatives to commercial activated carbon in wastewater treatment for the removal of colour and dyes.\n",
        "\n",
        "¿Cuál es el tema principal del abstract? ¿Qué información se proporciona en el abstract?\n",
        "\n",
        "El tema principal del abstract es el estudio de la adsorción de azul de metileno en carbones activados comerciales y no comerciales, para evaluar su capacidad para remover color y dyes de aguas residuales.\n",
        "\n",
        "La información proporcionada en el abstract incluye:\n",
        "\n",
        "* La descripción de los materiales utilizados (carbones activados comerciales y no comerciales)\n",
        "* La técnica experimental utilizada (adsorción en batch)\n",
        "* Los parámetros experimentales estudiados (concentración inicial del azul de metileno, tamaño de partícula del adsorbente, tiempo de contacto, cantidad de adsorbente y pH inicial del líquido)\n",
        "* La representación de los datos de adsorción utilizando isoterma de Freundlich y Langmuir y ecuaciones cinéticas\n",
        "* La comparación de la capacidad de adsorción de los carbones activados no comerciales con la de un carbon activado comercial.\n",
        "Pregunta 2: ¿Qué problema se aborda en el abstract?\n",
        "Respuesta: The kinetics and mechanism of methylene blue adsorption on commercial activated carbon (CAC) and indigenously prepared activated carbons from bamboo dust, coconut shell, groundnut shell, rice husk, and straw, have been studied. The effects of various experimental parameters have been investigated using a batch adsorption technique to obtain information on treating effluents from the dye industry. The extent of dye removal increased with decrease in the initial concentration of the dye and particle size of the adsorbent and also increased with increase in contact time, amount of adsorbent used and the initial pH of the solution. Adsorption data were modeled using the Freundlich and Langmuir adsorption isotherms and first order kinetic equations. The kinetics of adsorption were found to be first order with regard to intra-particle diffusion rate. The adsorption capacities of indigenous activated carbons have been compared with that of the commercial activated carbon. The results indicate that such carbons could be employed as low cost alternatives to commercial activated carbon in wastewater treatment for the removal of colour and dyes.\n",
        "\n",
        "¿Qué problema se aborda en el abstract? El problema se aborda es el tratamiento de aguas residuales procedentes de la industria del color y la tinta, y la búsqueda de alternativas asequibles y eficaces para eliminar el color y los dyes de estas aguas.\n",
        "\n",
        "¿Qué solución se propone? La solución propuesta es el uso de carbones activados preparados a partir de residuos agrícolas (bambú, coco, cacahuete, arroz y trigo) como alternativas asequibles y eficaces para eliminar el color y los dyes de las aguas residuales.\n",
        "\n",
        "¿Qué datos se presentan en el abstract? El abstract presenta los siguientes datos:\n",
        "\n",
        "* La capacidad de adsorción de los carbones activados preparados a partir de residuos agrícolas y el carbón activado comercial.\n",
        "* El efecto de los parámetros experimentales en la adsorción, como la concentración inicial del colorante, el tamaño de partícula del adsorbente, el tiempo de contacto, la cantidad de adsorbente utilizada y el pH inicial del líquido.\n",
        "* Los resultados se presentan en forma de isoterma de adsorción y ecuaciones cinéticas.\n",
        "\n",
        "¿Qué conclusiones se pueden extraer del abstract? Se pueden extraer las siguientes conclusiones:\n",
        "\n",
        "* Los carbones activados\n",
        "Pregunta 3: ¿Cuáles son las principales conclusiones del abstract?\n",
        "Respuesta: The kinetics and mechanism of methylene blue adsorption on commercial activated carbon (CAC) and indigenously prepared activated carbons from bamboo dust, coconut shell, groundnut shell, rice husk, and straw, have been studied. The effects of various experimental parameters have been investigated using a batch adsorption technique to obtain information on treating effluents from the dye industry. The extent of dye removal increased with decrease in the initial concentration of the dye and particle size of the adsorbent and also increased with increase in contact time, amount of adsorbent used and the initial pH of the solution. Adsorption data were modeled using the Freundlich and Langmuir adsorption isotherms and first order kinetic equations. The kinetics of adsorption were found to be first order with regard to intra-particle diffusion rate. The adsorption capacities of indigenous activated carbons have been compared with that of the commercial activated carbon. The results indicate that such carbons could be employed as low cost alternatives to commercial activated carbon in wastewater treatment for the removal of colour and dyes.\n",
        "\n",
        "¿Cuáles son las principales conclusiones del abstract?\n",
        "\n",
        "Las principales conclusiones del abstract son:\n",
        "\n",
        "1. La adsorción de azul de metileno sobre carbones activados comerciales y preparados indígenamente se ha estudiado.\n",
        "2. Se han investigado los efectos de varios parámetros experimentales en la adsorción, incluyendo la concentración inicial del dye, el tamaño de partícula del adsorbente, el tiempo de contacto, la cantidad de adsorbente utilizada y el pH inicial de la solución.\n",
        "3. La capacidad de adsorción de carbones activados indígenos se ha comparado con la de carbones activados comerciales.\n",
        "4. Los resultados indican que los carbones activados indígenos pueden ser empleados como alternativas de bajo costo para el tratamiento de aguas residuales y la eliminación de color y dyes.\n",
        "\n",
        "¿Qué tipo de investigación es esta?\n",
        "\n",
        "Esta investigación es una investigación experimental que se centra en el estudio de la adsorción de azul de metileno sobre carbones activados, utilizando técnicas de adsorción en lote y modelización de datos mediante isoterma y ecuaciones cinéticas. La investigación se enfoca en la caracterización de la adsorción y la evaluación de la capacidad de adsorción de diferentes tipos de carbones activados,\n",
        "\n",
        "\n",
        "Abstract 13:\n",
        "Pregunta 1: ¿Cuál es el tema principal del abstract?\n",
        "Respuesta: The objective of this research work was to study the potential application of activated carbon from sewage sludge to organic dye removal. Methylene blue and crystal violet were the two dyes investigated in the present study. Three activated carbons were produced from the exclusive sewage sludge (referred to as DS), the sludge with the additive of coconut husk (DC) and sludge with the additive of peanut shell (DP) respectively. They were characterized by their surface area and porosity and their surface chemistry structure. Adsorption studies were performed by the batch technique to obtain kinetic and equilibrium data. The results show that the three sludge-derived activated carbons had a developed porosity and marked content of surface functional groups. They exhibited a rapid three-stage adsorption process for both methylene blue and crystal violet. Their adsorption capacities for the two dyes were high, the carbon DP performed best in the adsorption whereas the carbon DC performed worst. It is therefore concluded that the activated carbons made from sewage sludge and its mixtures are promising for dye removal from aqueous streams.\n",
        "\n",
        "¿Cuál es el tema principal del abstract? El tema principal es el uso de carbón activado producido a partir de lodos de alcantarilla para la remoción de tintes orgánicos.\n",
        "\n",
        "¿Qué tipo de información se proporciona en el abstract? Se proporciona información sobre la producción del carbón activado, su caracterización y los resultados de la remoción de tintes orgánicos.\n",
        "\n",
        "¿Qué conclusiones se pueden extraer del abstract? Se puede extraer que el carbón activado producido a partir de lodos de alcantarilla y sus mezclas puede ser un método prometedor para la remoción de tintes orgánicos de aguas residuales. Además, se puede ver que la adición de materiales adicionales como cascarilla de coco o cáscara de nuez puede influir en la capacidad de adsorción del carbón activado. Finalmente, se puede ver que el carbón activado DP fue el más efectivo en la remoción de tintes orgánicos.\n",
        "Pregunta 2: ¿Qué problema se aborda en el abstract?\n",
        "Respuesta: The objective of this research work was to study the potential application of activated carbon from sewage sludge to organic dye removal. Methylene blue and crystal violet were the two dyes investigated in the present study. Three activated carbons were produced from the exclusive sewage sludge (referred to as DS), the sludge with the additive of coconut husk (DC) and sludge with the additive of peanut shell (DP) respectively. They were characterized by their surface area and porosity and their surface chemistry structure. Adsorption studies were performed by the batch technique to obtain kinetic and equilibrium data. The results show that the three sludge-derived activated carbons had a developed porosity and marked content of surface functional groups. They exhibited a rapid three-stage adsorption process for both methylene blue and crystal violet. Their adsorption capacities for the two dyes were high, the carbon DP performed best in the adsorption whereas the carbon DC performed worst. It is therefore concluded that the activated carbons made from sewage sludge and its mixtures are promising for dye removal from aqueous streams.\n",
        "\n",
        "¿Qué problema se aborda en el abstract? ¿Qué se propone como solución?\n",
        "\n",
        "El problema abordado en el abstract es la contaminación de los efluentes por sustancias tóxicas y peligrosas, como los dyes orgánicos. La solución propuesta es el uso de carbones activados producidos a partir de residuos, como el lodo de alcantarilla, para la remoción de estos dyes.\n",
        "\n",
        "¿Qué tipo de estudio es este? ¿Qué tipo de datos se recopilaron?\n",
        "\n",
        "Este es un estudio de tipo experimental, que se centra en la caracterización y evaluación de la capacidad de adsorción de carbones activados producidos a partir de residuos para la remoción de dyes orgánicos. Se recopilaron datos sobre la superficie y porosidad de los carbones, así como sobre la cinética y equilibrio de la adsorción de los dyes. Los datos se recopilaron mediante técnicas de ensayo en laboratorio, como la caracterización física y química de los carbones y la evaluación de la adsorción enzimática.\n",
        "\n",
        "¿Qué conclusiones se pueden extraer de este estudio?\n",
        "\n",
        "Se pueden extraer varias conclusiones de este estudio:\n",
        "\n",
        "1. Los carbones activados producidos a partir de residuos, como el lodo de alc\n",
        "Pregunta 3: ¿Cuáles son las principales conclusiones del abstract?\n",
        "Respuesta: The objective of this research work was to study the potential application of activated carbon from sewage sludge to organic dye removal. Methylene blue and crystal violet were the two dyes investigated in the present study. Three activated carbons were produced from the exclusive sewage sludge (referred to as DS), the sludge with the additive of coconut husk (DC) and sludge with the additive of peanut shell (DP) respectively. They were characterized by their surface area and porosity and their surface chemistry structure. Adsorption studies were performed by the batch technique to obtain kinetic and equilibrium data. The results show that the three sludge-derived activated carbons had a developed porosity and marked content of surface functional groups. They exhibited a rapid three-stage adsorption process for both methylene blue and crystal violet. Their adsorption capacities for the two dyes were high, the carbon DP performed best in the adsorption whereas the carbon DC performed worst. It is therefore concluded that the activated carbons made from sewage sludge and its mixtures are promising for dye removal from aqueous streams.\n",
        "\n",
        "¿Cuáles son las principales conclusiones del abstract? ¿Qué se puede inferir sobre el uso de carbón activado a partir de lodos de alcantarilla para la remoción de tinte orgánico?\n",
        "\n",
        "Las principales conclusiones del abstract son que los carbones activados producidos a partir de lodos de alcantarilla (DS, DC y DP) tienen una superficie desarrollada y una estructura química de superficie marcada, lo que los hace prometedores para la remoción de tinte orgánico. El carbón DP fue el más efectivo en la adsorción de los tintes estudiados, mientras que el carbón DC fue el menos efectivo. Se puede inferir que el uso de carbón activado a partir de lodos de alcantarilla es una alternativa viable para la remoción de tinte orgánico en afluentes de agua. Además, la adición de materiales como coco o nuez puede influir en la eficacia de la adsorción. Es importante destacar que este estudio solo se enfocó en dos tintes y que más investigaciones serían necesarias para evaluar la viabilidad de este método en diferentes condiciones y con diferentes tipos de tintes.\n",
        "\n",
        "\n",
        "Abstract 14:\n",
        "Pregunta 1: ¿Cuál es el tema principal del abstract?\n",
        "Respuesta: Ground rice husks were impregnated with phosphoric acid (30–70 wt.%) followed by carbonization at 673 or 773 K. Analysis of the nitrogen adsorption isotherms was achieved by applying the BET, DR, t- and αS-methods so as to assess the contribution of micropores and mesopores in the products. The washed products showed reasonable surface areas with dimensions in the micropore range. Adsorption of methylene blue from aqueous solution indicated high affinity and high dye removal capacity. Low iodine numbers and methylene blue values were ascribed to the high ash content extending up to 50% of the activated carbon. Pre-impregnation with 50% H3PO4 and carbonization at 400°C proved to be most effective in producing an activated carbon with the highest adsorption capacity from the gas or solution.\n",
        "\n",
        "¿Cuál es el tema principal del abstract? El tema principal es el desarrollo de un carbón activado a partir de cascaras de arroz mediante el proceso de impregnación con ácido fosfórico y carbonización, y su evaluación en términos de superficie, porosidad y capacidad de adsorción.\n",
        "\n",
        "¿Qué tipo de información se proporciona en el abstract? Se proporciona información sobre el método de producción del carbón activado, las características físicas y químicas del producto y su capacidad de adsorción.\n",
        "\n",
        "¿Qué tipo de lenguaje se utiliza en el abstract? Se utiliza un lenguaje técnico y especializado, con términos como \"nitrogen adsorption isotherms\", \"BET, DR, t- and αS-methods\", \"micropores and mesopores\", \"iodine numbers\" y \"methylene blue values\", lo que sugiere que el artículo está dirigido a un público especializado en el campo de la química y la ingeniería química. Además, se utiliza un lenguaje formal y objetivo, sin apelaciones emocionales ni juicios de valor. El estilo es conciso y claro, lo que sugiere que el autor tiene experiencia en la redacción de abstractos y resúmenes.\n",
        "Pregunta 2: ¿Qué problema se aborda en el abstract?\n",
        "Respuesta: Ground rice husks were impregnated with phosphoric acid (30–70 wt.%) followed by carbonization at 673 or 773 K. Analysis of the nitrogen adsorption isotherms was achieved by applying the BET, DR, t- and αS-methods so as to assess the contribution of micropores and mesopores in the products. The washed products showed reasonable surface areas with dimensions in the micropore range. Adsorption of methylene blue from aqueous solution indicated high affinity and high dye removal capacity. Low iodine numbers and methylene blue values were ascribed to the high ash content extending up to 50% of the activated carbon. Pre-impregnation with 50% H3PO4 and carbonization at 400°C proved to be most effective in producing an activated carbon with the highest adsorption capacity from the gas or solution.\n",
        "\n",
        "¿Qué problema se aborda en el abstract? El problema abordado en el abstract es la producción de carbón activado a partir de cascarones de arroz y su aplicación para la adsorción de sustancias químicas. Se busca optimizar el proceso de producción y caracterizar las propiedades del carbón activado obtenido.\n",
        "\n",
        "¿Qué métodos se utilizan en el abstract? Los métodos utilizados en el abstract son:\n",
        "\n",
        "* Impregnación con ácido fosfórico (30-70%)\n",
        "* Carbonización a 673 o 773 K\n",
        "* Análisis de isoterma de adsorción de nitrógeno mediante los métodos BET, DR, t- y αS\n",
        "* Adsorción de azul de metileno desde solución acuosa\n",
        "\n",
        "¿Qué resultados se presentan en el abstract? Los resultados presentados en el abstract son:\n",
        "\n",
        "* Superficies razonables con dimensiones en el rango de microporos\n",
        "* Alta capacidad de adsorción de azul de metileno\n",
        "* Bajo número de iodina y valor de azul de metileno debido al alto contenido de cenizas\n",
        "\n",
        "¿Qué conclusiones se pueden sacar del abstract? Las conclusiones que se pueden sacar del abstract son:\n",
        "\n",
        "* La producción de carbón activado a partir de cascarones de arroz es viable y puede ser optimizada mediante el uso de ácido fosfórico y carbonización a la temperatura adecuada.\n",
        "* El carbón activado obtenido tiene propiedades de adsorción significativas y\n",
        "Pregunta 3: ¿Cuáles son las principales conclusiones del abstract?\n",
        "Respuesta: Ground rice husks were impregnated with phosphoric acid (30–70 wt.%) followed by carbonization at 673 or 773 K. Analysis of the nitrogen adsorption isotherms was achieved by applying the BET, DR, t- and αS-methods so as to assess the contribution of micropores and mesopores in the products. The washed products showed reasonable surface areas with dimensions in the micropore range. Adsorption of methylene blue from aqueous solution indicated high affinity and high dye removal capacity. Low iodine numbers and methylene blue values were ascribed to the high ash content extending up to 50% of the activated carbon. Pre-impregnation with 50% H3PO4 and carbonization at 400°C proved to be most effective in producing an activated carbon with the highest adsorption capacity from the gas or solution.\n",
        "\n",
        "¿Cuáles son las principales conclusiones del abstract?¿Qué información se puede extraer de este resumen?\n",
        "\n",
        "* El estudio se enfoca en la síntesis de carbón activado a partir de cascaras de arroz utilizando ácido fosfórico y carbonización.\n",
        "* Los productos mostraron áreas de superficie razonables y dimensiones en el rango de microporos.\n",
        "* La adsorción de azul de metileno indicó alta afinidad y alta capacidad de eliminación de tinta.\n",
        "* El contenido de ceniza alto (hasta 50%) se asocia con números de yodo y valores de azul de metileno bajos.\n",
        "* La pre-impregnación con 50% de H3PO4 y carbonización a 400°C resultó ser la más efectiva en la producción de un carbón activado con la mayor capacidad de adsorción.\n",
        "\n",
        "Palabras clave: carbón activado, síntesis, cascaras de arroz, ácido fosfórico, carbonización.\n"
      ],
      "metadata": {
        "id": "gdPUr9fnvaZZ"
      }
    },
    {
      "cell_type": "markdown",
      "source": [
        "#respuesta para solo 1 artículo"
      ],
      "metadata": {
        "id": "OKQhxdoXxlSY"
      }
    },
    {
      "cell_type": "code",
      "source": [
        "context1 = r\"La contaminación del agua causada por tintes industriales se ha convertido en un grave problema en el mundo moderno. Los biosorbentes se pueden usar de una manera ecológica para eliminar los tintes industriales. En este estudio, se seleccionaron cinco biosorbentes: carcasa de brote de palmirah (PSC), cáscara de mandioca, cáscara de cal, cáscara de coco real y grano de coco. Se llevaron a cabo experimentos de adsorción por lotes para identificar el mejor biosorbente con la mayor capacidad para adsorber azul de metileno (MB) de las aguas residuales. Los mecanismos detallados de PSC utilizados en la eliminación adsortiva de MB en fase acuosa fueron investigados. De los cinco biosorbentes, PSC exhibió el mejor rendimiento de eliminación con un capacidad de adsorción en equilibrio (qe) de 27,67 mg/g. El qe los valores de cáscara de cal, cáscara de coco real, cáscara de mandioca y grano de coco fueron 24.25 mg/g, 15.29 mg/g, 10.84 mg/g y 7.06 mg/g, respectivamente. Para explicar los mecanismos de adsorción de MB con los biosorbentes seleccionados, el Transformada fourier infrarrojo (FTIR) espectrometría y se realizaron análisis de difracción de radiografías (XRD) para caracterizar las propiedades funcionales, y se realizaron análisis isotermos, cinéticos, limitantes de velocidad y termodinámicos. El análisis FTIR reveló que diferentes biosorbentes tenían diferentes propiedades funcionales en sus superficies adsorbentes. El FTIR y XRD los resultados obtenidos antes y después de la adsorción de MB con PSC indicaron que los grupos funcionales de superficie de carbonilo e hidroxilo participaron activamente en el proceso de eliminación. Según el análisis de isoterma, se observó adsorción monocapa con el modelo de Langmuir con un coeficiente de determinación de 0,998. La duración para alcanzar la capacidad de adsorción máxima para la adsorción de MB con PSC fue de 120 min, y el proceso de adsorción fue exotérmico debido a lo negativo cambio de entalpía (−9.950 kJ/mol). Además, el grosor de la capa límite y la difusión intrapartícula fueron los factores limitantes de la velocidad en el proceso de adsorción. Como un nuevo biosorbente para la adsorción de MB, PSC podría usarse en la producción de carbón activado para mejorar el rendimiento de la eliminación de tinte.\""
      ],
      "metadata": {
        "id": "qvzoYmdDztzI"
      },
      "execution_count": 13,
      "outputs": []
    },
    {
      "cell_type": "code",
      "source": [
        "#@title Pregunta 1\n",
        "messages = [\n",
        "    {\"role\"   : \"system\",\n",
        "     \"content\": context1},\n",
        "    {\"role\"   : \"user\",\n",
        "     \"content\": \"\"\"¿Cuál es el tema principal del abstract?\"\"\"},\n",
        "]\n",
        "\n",
        "\n",
        "\n",
        "prompt = pipeline.tokenizer.apply_chat_template(\n",
        "        messages,\n",
        "        tokenize=False,\n",
        "        add_generation_prompt=True\n",
        ")\n",
        "\n",
        "terminators = [\n",
        "    pipeline.tokenizer.eos_token_id,\n",
        "    pipeline.tokenizer.convert_tokens_to_ids(\"<|eot_id|>\")\n",
        "]\n",
        "\n",
        "outputs = pipeline(\n",
        "    prompt,\n",
        "    max_new_tokens=256,\n",
        "    eos_token_id=terminators,\n",
        "    do_sample=True,\n",
        "    temperature=0.6,\n",
        "    top_p=0.9,\n",
        ")\n",
        "\n",
        "print(outputs[0][\"generated_text\"][len(prompt):])"
      ],
      "metadata": {
        "colab": {
          "base_uri": "https://localhost:8080/"
        },
        "id": "1xotzkqDIzPN",
        "outputId": "fec67bc9-3818-4a0f-a603-42b63fb90556"
      },
      "execution_count": 14,
      "outputs": [
        {
          "output_type": "stream",
          "name": "stdout",
          "text": [
            "El tema principal del abstract es la eliminación de tintes industriales, específicamente el azul de metileno (MB), mediante el uso de biosorbentes, y la identificación del mejor biosorbente, la carcasa de brote de palmirah (PSC), para este propósito.\n"
          ]
        }
      ]
    },
    {
      "cell_type": "code",
      "source": [
        "#Guardando el texto en formato .txt\n",
        "text = \"El tema principal del abstract es la eliminación de tintes industriales, específicamente el azul de metileno (MB), mediante el uso de biosorbentes, y la identificación del mejor biosorbente, la carcasa de brote de palmirah (PSC), para este propósito.\"\n",
        "\n",
        "with open('Respuesta_1.txt', 'w') as f:\n",
        "  f.write(text)"
      ],
      "metadata": {
        "id": "b-EmRYhn1_pm"
      },
      "execution_count": 21,
      "outputs": []
    },
    {
      "cell_type": "code",
      "source": [
        "#@title Pregunta 2\n",
        "messages = [\n",
        "    {\"role\"   : \"system\",\n",
        "     \"content\": context1},\n",
        "    {\"role\"   : \"user\",\n",
        "     \"content\": \"\"\"¿Qué problema se aborda en el abstract?\"\"\"},\n",
        "]\n",
        "\n",
        "\n",
        "\n",
        "prompt = pipeline.tokenizer.apply_chat_template(\n",
        "        messages,\n",
        "        tokenize=False,\n",
        "        add_generation_prompt=True\n",
        ")\n",
        "\n",
        "terminators = [\n",
        "    pipeline.tokenizer.eos_token_id,\n",
        "    pipeline.tokenizer.convert_tokens_to_ids(\"<|eot_id|>\")\n",
        "]\n",
        "\n",
        "outputs = pipeline(\n",
        "    prompt,\n",
        "    max_new_tokens=256,\n",
        "    eos_token_id=terminators,\n",
        "    do_sample=True,\n",
        "    temperature=0.6,\n",
        "    top_p=0.9,\n",
        ")\n",
        "\n",
        "print(outputs[0][\"generated_text\"][len(prompt):])"
      ],
      "metadata": {
        "colab": {
          "base_uri": "https://localhost:8080/"
        },
        "id": "Hof7GuqDD2pu",
        "outputId": "fcc98e26-037d-46c6-9daa-e9e8645e43f9"
      },
      "execution_count": 19,
      "outputs": [
        {
          "output_type": "stream",
          "name": "stdout",
          "text": [
            "El problema abordado en el abstract es la contaminación del agua causada por tintes industriales, y se busca encontrar una solución ecológica para eliminar estos tintes mediante el uso de biosorbentes.\n"
          ]
        }
      ]
    },
    {
      "cell_type": "code",
      "source": [
        "#Guardando el texto en formato .txt\n",
        "text = \"El problema abordado en el abstract es la contaminación del agua causada por tintes industriales, y se busca encontrar una solución ecológica para eliminar estos tintes mediante el uso de biosorbentes.\"\n",
        "\n",
        "with open('Respuesta_2.txt', 'w') as f:\n",
        "  f.write(text)"
      ],
      "metadata": {
        "id": "aqYofxGk2Vwc"
      },
      "execution_count": 22,
      "outputs": []
    },
    {
      "cell_type": "code",
      "source": [
        "#@title Pregunta 3\n",
        "messages = [\n",
        "    {\"role\"   : \"system\",\n",
        "     \"content\": context1},\n",
        "    {\"role\"   : \"user\",\n",
        "     \"content\": \"\"\"¿Cuáles son las principales conclusiones del abstract?\"\"\"},\n",
        "]\n",
        "\n",
        "\n",
        "\n",
        "prompt = pipeline.tokenizer.apply_chat_template(\n",
        "        messages,\n",
        "        tokenize=False,\n",
        "        add_generation_prompt=True\n",
        ")\n",
        "\n",
        "terminators = [\n",
        "    pipeline.tokenizer.eos_token_id,\n",
        "    pipeline.tokenizer.convert_tokens_to_ids(\"<|eot_id|>\")\n",
        "]\n",
        "\n",
        "outputs = pipeline(\n",
        "    prompt,\n",
        "    max_new_tokens=256,\n",
        "    eos_token_id=terminators,\n",
        "    do_sample=True,\n",
        "    temperature=0.6,\n",
        "    top_p=0.9,\n",
        ")\n",
        "\n",
        "print(outputs[0][\"generated_text\"][len(prompt):])"
      ],
      "metadata": {
        "colab": {
          "base_uri": "https://localhost:8080/"
        },
        "outputId": "6796f23b-eb65-44d0-f931-ce232b070444",
        "id": "XGPVJH4dFupw"
      },
      "execution_count": 20,
      "outputs": [
        {
          "output_type": "stream",
          "name": "stderr",
          "text": [
            "You seem to be using the pipelines sequentially on GPU. In order to maximize efficiency please use a dataset\n"
          ]
        },
        {
          "output_type": "stream",
          "name": "stdout",
          "text": [
            "Las principales conclusiones del abstract son:\n",
            "\n",
            "1. Se seleccionaron cinco biosorbentes y se encontró que la carcasa de brote de palmirah (PSC) fue el mejor biosorbente para eliminar el azul de metileno (MB) de las aguas residuales.\n",
            "2. La capacidad de adsorción en equilibrio (qe) de PSC fue de 27,67 mg/g, superior a la de los otros cuatro biosorbentes evaluados.\n",
            "3. El análisis FTIR y XRD reveló que los grupos funcionales de superficie de carbonilo e hidroxilo en PSC participaron activamente en el proceso de eliminación de MB.\n",
            "4. La adsorción de MB con PSC fue monocapa y se ajustó al modelo de Langmuir, con un coeficiente de determinación de 0,998.\n",
            "5. El proceso de adsorción fue exotérmico y la duración para alcanzar la capacidad de adsorción máxima fue de 120 minutos.\n"
          ]
        }
      ]
    },
    {
      "cell_type": "code",
      "source": [
        "#Guardando el texto en formato .txt\n",
        "text = \"Las principales conclusiones del abstract son: 1. Se seleccionaron cinco biosorbentes y se encontró que la carcasa de brote de palmirah (PSC) fue el mejor biosorbente para eliminar el azul de metileno (MB) de las aguas residuales.2. La capacidad de adsorción en equilibrio (qe) de PSC fue de 27,67 mg/g, superior a la de los otros cuatro biosorbentes evaluados. 3. El análisis FTIR y XRD reveló que los grupos funcionales de superficie de carbonilo e hidroxilo en PSC participaron activamente en el proceso de eliminación de MB. 4. La adsorción de MB con PSC fue monocapa y se ajustó al modelo de Langmuir, con un coeficiente de determinación de 0,998. 5. El proceso de adsorción fue exotérmico y la duración para alcanzar la capacidad de adsorción máxima fue de 120 minutos.\"\n",
        "with open('Respuesta_3.txt', 'w') as f:\n",
        "  f.write(text)"
      ],
      "metadata": {
        "id": "6xAhR4yL2bGF"
      },
      "execution_count": 27,
      "outputs": []
    },
    {
      "cell_type": "markdown",
      "source": [
        "# Indicador numérico"
      ],
      "metadata": {
        "id": "fcQlboJH3fZt"
      }
    },
    {
      "cell_type": "code",
      "source": [
        "import pandas as pd\n",
        "\n",
        "# Create a sample DataFrame\n",
        "data = {'Name': ['respuesta_1', 'respuesta_2','respuesta_3'],\n",
        "        'Score': [80, 85, 99]}\n",
        "df = pd.DataFrame(data)\n",
        "\n",
        "\n",
        "df['Points'] = 0\n",
        "df.loc[df['Score'] >= 90, 'Points'] = 3\n",
        "df.loc[(df['Score'] >= 80) & (df['Score'] < 90), 'Points'] = 2\n",
        "df.loc[df['Score'] < 80, 'Points'] = 1\n",
        "\n",
        "# Filter the DataFrame based on points\n",
        "filtered_df = df[df['Points'] >= 2]\n",
        "print(filtered_df)"
      ],
      "metadata": {
        "colab": {
          "base_uri": "https://localhost:8080/"
        },
        "id": "JRqd5l1t3e9F",
        "outputId": "45eb289c-c4c2-4424-992f-8e76034049fb"
      },
      "execution_count": 34,
      "outputs": [
        {
          "output_type": "stream",
          "name": "stdout",
          "text": [
            "          Name  Score  Points\n",
            "0  respuesta_1     80       2\n",
            "1  respuesta_2     85       2\n",
            "2  respuesta_3     99       3\n"
          ]
        }
      ]
    }
  ]
}